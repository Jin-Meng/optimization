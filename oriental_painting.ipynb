{
  "nbformat": 4,
  "nbformat_minor": 0,
  "metadata": {
    "colab": {
      "name": "oriental painting.ipynb",
      "provenance": [],
      "collapsed_sections": []
    },
    "kernelspec": {
      "name": "python3",
      "display_name": "Python 3"
    },
    "language_info": {
      "name": "python"
    },
    "accelerator": "TPU"
  },
  "cells": [
    {
      "cell_type": "code",
      "metadata": {
        "id": "mUBE2TeBCCtE"
      },
      "source": [
        "import math\n",
        "import numpy as np\n",
        "from numpy import pi\n",
        "from numpy import random\n",
        "from numpy import linalg\n",
        "import csv"
      ],
      "execution_count": null,
      "outputs": []
    },
    {
      "cell_type": "markdown",
      "metadata": {
        "id": "nQRqo59XBvnw"
      },
      "source": [
        "this is used to initialize the state parameters "
      ]
    },
    {
      "cell_type": "code",
      "metadata": {
        "id": "qTmAkA5bBuw2"
      },
      "source": [
        "# initial weight parameters\n",
        "mu = np.zeros(6)\n",
        "sigma = 2\n",
        "theta_initial = np.array([0.0,0.0,0.0,0.0,0.0,0.0,2.0])#np.zeros(7) #0~5 mu; 6:sigma\n",
        "\n",
        "# initial state parameter\n",
        "omega = 0\n",
        "phi = 0\n",
        "d = 0\n",
        "kappa1 = 0\n",
        "kappa2 = 0\n",
        "l = 0\n",
        "s_initial = np.array([0,0.19455,0,0.01006,0.01006,1])#np.zeros(6) #0:omege; 1:phi; 2:d; 3:kappa1; 4:kappa2; 5:l\n",
        "\n",
        "# init parameter for E_location\n",
        "tau1 = 0.5\n",
        "tau2 = 0.5\n",
        "zeta1 = 1/3\n",
        "zeta2 = 1/3\n",
        "zeta3 = 1/3\n",
        "discount = 0.99\n",
        "\n",
        "# init for kappa\n",
        "alpha = 0.05\n",
        "curv1 = 10\n",
        "curv2 = 10\n",
        "curv = [curv1, curv2]\n",
        "\n",
        "# init geometry\n",
        "width = 2\n",
        "R_brush = width/2\n",
        "R_med = 10\n",
        "R_inner = R_med - width/2\n",
        "R_outer = R_med + width/2"
      ],
      "execution_count": null,
      "outputs": []
    },
    {
      "cell_type": "markdown",
      "metadata": {
        "id": "nJHelkhUcmIN"
      },
      "source": [
        "tau1=tau2=0.5 for upright brush style; note the center of the c should not exceed the inner and outer boundary"
      ]
    },
    {
      "cell_type": "code",
      "metadata": {
        "id": "8bziVlwCBAaF"
      },
      "source": [
        "def E_location(STT):\n",
        "  if STT[2] >= -0.2 and STT[2] <= 0.2:\n",
        "    R = tau1 * np.absolute(STT[0]) + tau2 * np.absolute(STT[2]) \n",
        "  else:\n",
        "    R = tau1 * np.absolute(STT[0]) + tau2 * (np.absolute(STT[2]) + 5)\n",
        "  return R\n"
      ],
      "execution_count": null,
      "outputs": []
    },
    {
      "cell_type": "code",
      "metadata": {
        "id": "Zo4g182obk0u"
      },
      "source": [
        "def sq_change(Xt,Xt_minus):\n",
        "    if Xt==Xt_minus and Xt==0:\n",
        "        R = 1\n",
        "    else:\n",
        "        R = (Xt-Xt_minus)**2/(np.absolute(Xt)+np.absolute(Xt_minus))**2\n",
        "        \n",
        "    return R"
      ],
      "execution_count": null,
      "outputs": []
    },
    {
      "cell_type": "code",
      "metadata": {
        "id": "6SDMxjpCiwvJ"
      },
      "source": [
        "def E_posture(STT,STT_prev):\n",
        "    # need STT and STT_previous\n",
        "    R = zeta1*sq_change(STT[0],STT_prev[0]) + zeta2*sq_change(STT[1],STT_prev[1]) + zeta3*sq_change(STT[2],STT_prev[2])\n",
        "\n",
        "    return R     "
      ],
      "execution_count": null,
      "outputs": []
    },
    {
      "cell_type": "code",
      "metadata": {
        "id": "gG_aXbFr3ou5"
      },
      "source": [
        "def calc_kappa(curv):\n",
        "  kappa1 = (2 / pi) * np.arctan(alpha/(np.sqrt(curv1)))\n",
        "  kappa2 = (2 / pi) * np.arctan(alpha/(np.sqrt(curv2)))\n",
        "\n",
        "  return kappa1, kappa2"
      ],
      "execution_count": null,
      "outputs": []
    },
    {
      "cell_type": "code",
      "metadata": {
        "id": "mdUSbv4odAXK"
      },
      "source": [
        "# modified\n",
        "# def step_c(xt, yt, act, STT):\n",
        "#   # tangent direction of the arc or the velocity vector of the brush stroke\n",
        "#   vx = yt\n",
        "#   vy = -xt\n",
        "#   tangent = np.array([vx, vy])\n",
        "#   #normalize the velocity\n",
        "#   tangent = tangent/np.linalg.norm(tangent)\n",
        "#   #rotation according to action\n",
        "#   w_t = STT[0]\n",
        "#   act_rotation = np.array([[np.cos(w_t+act), -np.sin(w_t+act)],\n",
        "#                            [np.sin(w_t+act),  np.cos(w_t+act)]])\n",
        "#   velocity = np.dot(act_rotation, tangent)\n",
        "#   step_center = R_brush/3 * velocity\n",
        "#   x_next = xt + step_center[0]\n",
        "#   y_next = yt + step_center[1]\n",
        "#   # Calculate the new w\n",
        "#   tangent_next = np.array([y_next, -x_next])\n",
        "#   tangent_next /= np.linalg.norm(tangent_next)\n",
        "#   w_next = np.arccos(np.dot(velocity,tangent_next))\n",
        "  \n",
        "#   # update d, R_brush is fixed\n",
        "#   dist_offset = np.sqrt(x_next**2 + y_next**2) - R_med\n",
        "#   d_next = dist_offset/R_brush\n",
        " \n",
        "#   return x_next, y_next, w_next, d_next"
      ],
      "execution_count": null,
      "outputs": []
    },
    {
      "cell_type": "code",
      "metadata": {
        "id": "kFuSmejkEEFU"
      },
      "source": [
        "# Query boundary, the shape is a half circle, covering the 1st,4th quadrant\n",
        "# need R_brush is fixed as the 1/2 width of this shape\n",
        "\n",
        "def step_c(xt, yt, act, STT):\n",
        "  # tangent direction of the arc or the velocity vector of the brush stroke\n",
        "  vx = yt\n",
        "  vy = -xt\n",
        "  tangent = np.array([vx, vy])\n",
        "  #normalize the velocity\n",
        "  tangent = tangent/np.linalg.norm(tangent)\n",
        "  #rotation according to action\n",
        "  w_t = STT[0]\n",
        "  act_rotation = np.array([[np.cos(w_t+act), -np.sin(w_t+act)],\n",
        "                           [np.sin(w_t+act),  np.cos(w_t+act)]])\n",
        "  velocity = np.dot(act_rotation, tangent)\n",
        "  step_center = R_brush/3 * velocity\n",
        "  x_next = xt + step_center[0]\n",
        "  y_next = yt + step_center[1]\n",
        "  # Calculate the new w\n",
        "  tangent_next = np.array([y_next, -x_next])\n",
        "  tangent_next /= np.linalg.norm(tangent_next)\n",
        "\n",
        "  cosTh = np.dot(tangent_next, velocity)\n",
        "\n",
        "  sinTh = np.cross(tangent_next, velocity)\n",
        "  w_next = np.arctan2(sinTh, cosTh)\n",
        "  \n",
        "  # update d, R_brush is fixed\n",
        "  dist_offset = np.sqrt(x_next**2 + y_next**2) - R_med\n",
        "  d_next = dist_offset/R_brush\n",
        " \n",
        "  return x_next, y_next, w_next, d_next"
      ],
      "execution_count": null,
      "outputs": []
    },
    {
      "cell_type": "code",
      "metadata": {
        "id": "HR5JTI6iQNwG"
      },
      "source": [
        "def query_boundary(Cx, Cy):\n",
        "  ft_head = np.sqrt(Cx**2 + Cy**2)\n",
        "  if ft_head >= R_outer or ft_head <= R_inner:\n",
        "    return True\n",
        "  else:\n",
        "    return False\n"
      ],
      "execution_count": null,
      "outputs": []
    },
    {
      "cell_type": "code",
      "metadata": {
        "id": "tgxSIw1J3wYm"
      },
      "source": [
        "def action_policy(Theta, STT, Cx, Cy):\n",
        "  max_attempt_num = 5\n",
        "  attempt = 1\n",
        "  action = random.normal(np.dot(Theta[0:6], STT),Theta[6])\n",
        "  xtt, ytt, _, _ = step_c(Cx, Cy, action, STT)\n",
        "  while query_boundary(xtt, ytt):\n",
        "    action = random.normal(np.dot(Theta[0:6], STT),Theta[6])\n",
        "    xtt, ytt, _, _ = step_c(Cx, Cy, action, STT)\n",
        "    attempt = attempt + 1\n",
        "    if attempt > max_attempt_num:\n",
        "      break\n",
        "      \n",
        "  return action\n",
        "    "
      ],
      "execution_count": null,
      "outputs": []
    },
    {
      "cell_type": "code",
      "metadata": {
        "id": "-0F-1TFkiG9j"
      },
      "source": [
        "def Imm_reward(st_prev, st, l_next):\n",
        "    if l_next == 0:\n",
        "        return 0\n",
        "    else:\n",
        "        return ((np.absolute(st[3])+np.absolute(st[4])+2)/(E_location(st)+E_posture(st,st_prev))) # E_pos need st_prev"
      ],
      "execution_count": null,
      "outputs": []
    },
    {
      "cell_type": "code",
      "metadata": {
        "id": "hbjGxsuiVFEu"
      },
      "source": [
        "def gradient_mu(act, STT, Theta):\n",
        "  nabla_mu = ((act - np.dot(Theta[0:6], STT))/ Theta[6]**2) * STT\n",
        "  return nabla_mu"
      ],
      "execution_count": null,
      "outputs": []
    },
    {
      "cell_type": "code",
      "metadata": {
        "id": "hnzZSEf7caI0"
      },
      "source": [
        "def gradient_sigma(act, STT, Theta):\n",
        "    nabla_sig = ((act - np.dot(Theta[0:6],STT))**2 -Theta[6]**2)/( Theta[6]**3)\n",
        "    return nabla_sig\n"
      ],
      "execution_count": null,
      "outputs": []
    },
    {
      "cell_type": "code",
      "metadata": {
        "id": "1rMSBFruHhne"
      },
      "source": [
        "def update_Q(Cx,Cy,Cx_prev,Cy_prev,cq):\n",
        "  extend = 0\n",
        "  if Cy == 0:\n",
        "    Qx = (R_med **2 - cq **2 + Cx **2) / (2 * Cx)\n",
        "    if R_med **2 < Qx **2:\n",
        "      Qx = 10\n",
        "      Qy = 0\n",
        "      cq = np.absolute (Qx - Cx)\n",
        "      extend = 1\n",
        "    else:\n",
        "       Qy = np.sqrt(R_med **2 - Qx **2)\n",
        "    return Qx, Qy, extend, cq\n",
        "\n",
        "  res = (R_med **2 - cq **2 + Cx**2 +Cy ** 2)/(2 * Cy)\n",
        "  a = 1 + (Cx/Cy) ** 2\n",
        "  b = -2 * res * Cx/Cy\n",
        "  c = res**2 - R_med **2\n",
        "  \n",
        "  delta = b**2 - 4 * a * c\n",
        "  \n",
        "  if delta < 0 :\n",
        "    extend = 1\n",
        "    if Cx == 0:\n",
        "      Qx = 0 \n",
        "      Qy = 10\n",
        "      cq = np.absolute(Qy - Cy)\n",
        "    else:\n",
        "      Qx = R_med ** 2/ (1 + (Cy/Cx) ** 2)\n",
        "      Qy = Cy * Qx / Cx\n",
        "      cq = np.sqrt ((Qx - Cx) ** 2 +(Qy - Cy) ** 2)\n",
        "    return Qx,Qy,extend,cq\n",
        "\n",
        "  Qx_1 = (-b + np.sqrt(delta))/(2 * a)\n",
        "  Qy_1 = res  - Cx/Cy * Qx_1\n",
        "    \n",
        "  Qx_2 = (-b - np.sqrt(delta))/(2 * a)\n",
        "  Qy_2 = res  - Cx/Cy * Qx_2\n",
        "    \n",
        "  distance1 = (Qx_1 - Cx_prev) ** 2 + (Qy_1 - Cy_prev) ** 2\n",
        "  distance2 = (Qx_2 - Cx_prev) ** 2 + (Qy_2 - Cy_prev) ** 2\n",
        "    \n",
        "  if distance1 < distance2:\n",
        "    return Qx_1,Qy_1,extend,cq\n",
        "  else:\n",
        "    return Qx_2,Qy_2,extend,cq\n",
        "    "
      ],
      "execution_count": null,
      "outputs": []
    },
    {
      "cell_type": "markdown",
      "metadata": {
        "id": "AdHUIDy578q7"
      },
      "source": [
        "Solution to get update Q\n",
        "https://drive.google.com/file/d/13VFuMbSeE8zjzflMqvUPkxevm3YaVPmT/view?usp=sharing"
      ]
    },
    {
      "cell_type": "code",
      "metadata": {
        "id": "oHdcApE14kC-"
      },
      "source": [
        "def find_next_phi(Cx, Cy, Qx, Qy):\n",
        "  CQ_vector = np.array([(Qx- Cx),(Qy - Cy)])\n",
        "  #normalize CQ\n",
        "  CQ_vector = CQ_vector / np.linalg.norm(CQ_vector)\n",
        "\n",
        "  x = -Cy\n",
        "  y = Cx\n",
        "  tangent = np.array([x, y])\n",
        "  #normalize the velocity\n",
        "  tangent = tangent/np.linalg.norm(tangent)\n",
        "\n",
        "  sin_phi = np.cross(tangent, CQ_vector)\n",
        "  cos_phi = np.dot(tangent, CQ_vector)\n",
        "\n",
        "  phi = np.arctan2(sin_phi, cos_phi)\n",
        "\n",
        "  return phi"
      ],
      "execution_count": null,
      "outputs": []
    },
    {
      "cell_type": "code",
      "metadata": {
        "id": "jGLvV_0fEByC"
      },
      "source": [
        "def find_l(Cx,Cy,Cx_prev,Cy_prev):\n",
        "  if Cx < Cx_prev:\n",
        "    l = 0\n",
        "  elif Cx < 0 or Cy <0:\n",
        "    l = 0\n",
        "  else:\n",
        "    l = 1\n",
        "  \n",
        "  return l\n",
        "\n"
      ],
      "execution_count": null,
      "outputs": []
    },
    {
      "cell_type": "code",
      "metadata": {
        "id": "NqR34Oz4oWPL"
      },
      "source": [
        "# def find_l(Cx,Cy,Cx_prev,Cy_prev):\n",
        "#   if Cy == 0 :\n",
        "#     if Cx <= 0:\n",
        "#       angle = -np.pi/2\n",
        "#     else:\n",
        "#       angle = np.pi/2\n",
        "#   else:\n",
        "#     angle = np.arctan(Cx/Cy)\n",
        "    \n",
        "#   if Cy_prev == 0 :\n",
        "#     if Cx_prev <= 0:\n",
        "#       angle_prev = -np.pi/2\n",
        "#     else:\n",
        "#       angle_prev = np.pi/2\n",
        "#   else:\n",
        "#     angle_prev = np.arctan(Cx/Cy) \n",
        "        \n",
        "        \n",
        "       \n",
        "#   if angle > angle_prev and angle <= np.pi/2:\n",
        "#     return 1\n",
        "    \n",
        "#   else:\n",
        "#     return 0"
      ],
      "execution_count": null,
      "outputs": []
    },
    {
      "cell_type": "markdown",
      "metadata": {
        "id": "bGv19oc8g5bd"
      },
      "source": [
        "called at t = T, to determine whether next episode should start from current location or start from somewhere near the S point; depending on whether point C is within the boundary or if it is close to the goal position"
      ]
    },
    {
      "cell_type": "code",
      "metadata": {
        "id": "CRZWC0poGjQg"
      },
      "source": [
        "def agent_restart(CQ_len, Cx, Cy, Qx, Qy):\n",
        "  dist_to_end = np.sqrt((10 - Cx)**2 + Cy**2)\n",
        "  threshold = 4\n",
        "  flag = False\n",
        "  if (CQ_len > threshold) or (dist_to_end < 1) or query_boundary(Cx, Cy):\n",
        "    Cx = 3.787\n",
        "    # Cx = -10 + 0.1 * random.rand(1)\n",
        "    Cy = 9.225\n",
        "    # Cy = 0 + 0.1 * random.rand(1)\n",
        "    Qx = 0\n",
        "    Qy = 10\n",
        "    # return Cx.squeeze(), Cy.squeeze()\n",
        "    flag = True\n",
        "    return Cx, Cy, Qx, Qy, flag\n",
        "\n",
        "  else:\n",
        "    return Cx, Cy, Qx, Qy, flag\n"
      ],
      "execution_count": null,
      "outputs": []
    },
    {
      "cell_type": "code",
      "metadata": {
        "id": "rab-hLLbihal"
      },
      "source": [
        "def main():\n",
        "  trials = 80\n",
        "  episodes = 300\n",
        "  T = 20\n",
        "  \n",
        "  Reward = np.zeros([trials,episodes]) #total reward over trajectory\n",
        "  num_candidate = 4\n",
        "  action_candidate = np.zeros(num_candidate)\n",
        "  candidate_reward = np.zeros(num_candidate)\n",
        "  Action = 0\n",
        "\n",
        "  nabla_mu_J = 0\n",
        "  nabla_sigma_J = 0\n",
        "\n",
        "  Theta = theta_initial\n",
        "\n",
        "\n",
        "\n",
        "  for i in range(trials):\n",
        "    state_prev = s_initial\n",
        "    state_curr = s_initial\n",
        "    b_star = 0\n",
        "    b_star_numerator = 0\n",
        "    b_star_denominator = 0\n",
        "    xt = 3.787\n",
        "    yt = 9.225\n",
        "    qx = 0\n",
        "    qy = 10\n",
        "    sum_sigma_T = np.zeros(episodes)\n",
        "    sum_mu_T = np.zeros([episodes, 6])\n",
        "    CQ = R_brush / np.sin(15/180 * pi)\n",
        "\n",
        "    for e in range(episodes):\n",
        "      for t in range(T):\n",
        "        for c in range(num_candidate):\n",
        "          action_candidate[c]  = action_policy(Theta, state_curr, xt, yt)\n",
        "          xtt, ytt, _, _ = step_c(xt, yt, action_candidate[c], state_curr)\n",
        "          L = find_l(xtt, ytt, xt, yt)\n",
        "          candidate_reward[c] = Imm_reward(state_prev, state_curr, L)\n",
        "        Action = action_candidate[np.argmax(candidate_reward)]\n",
        "        Reward[i,e] = Reward[i,e] + (discount ** t) * max(candidate_reward)\n",
        "        xt_c = xt\n",
        "        yt_c = yt\n",
        "        xt, yt, w_n, d_n = step_c(xt, yt, Action, state_curr)\n",
        "        qx, qy, Extend, CQ = update_Q(xt, yt, xt_c, yt_c,CQ)\n",
        "        # n_ext = n_ext + Extend\n",
        "        PHI = find_next_phi(xt,yt,qx, qy)\n",
        "        L = find_l(xt, yt, xt_c, yt_c)\n",
        "        K1 , K2 = calc_kappa(curv)\n",
        "        state_prev = state_curr\n",
        "        state_curr = np.array([w_n, PHI, d_n, K1, K2, L])\n",
        "        sum_mu_T[e] = sum_mu_T[e] + gradient_mu(Action, state_curr, Theta)\n",
        "        sum_sigma_T[e] = sum_sigma_T[e] + gradient_sigma(Action,state_curr,Theta)\n",
        "      # print(xt,yt)\n",
        "      xt, yt, qx, qy, f = agent_restart(CQ, xt, yt, qx, qy)\n",
        "      if f:\n",
        "          CQ = R_brush / np.sin(15/180 * pi)\n",
        "          state_prev = s_initial\n",
        "          state_curr = s_initial\n",
        "\n",
        "      sub_b = np.append(sum_mu_T[e], sum_sigma_T[e])\n",
        "      norm_term = linalg.norm(sub_b)**2\n",
        "      b_star_numerator += Reward[i,e] * norm_term\n",
        "      b_star_denominator += norm_term\n",
        "      \n",
        "    b_star =  b_star_numerator/ b_star_denominator\n",
        "\n",
        "    nabla_mu_J = np.dot(Reward[i] - b_star, sum_mu_T) / episodes\n",
        "    nabla_sigma_J = np.dot(Reward[i] - b_star, sum_sigma_T) /episodes\n",
        "    g_theta = np.append(nabla_mu_J,nabla_sigma_J)\n",
        "    Theta[0:6] += (0.03/linalg.norm(g_theta)) * nabla_mu_J\n",
        "    Theta[6] += (0.03/linalg.norm(g_theta)) * nabla_sigma_J\n",
        "    # print(Theta[6])\n",
        "    print(np.average(Reward[i]))\n",
        "    # print(Reward[i][episodes-1])\n",
        "\n",
        "\n",
        "  with open('submission1.csv', 'w') as f:\n",
        "    writer = csv.writer(f, delimiter=',', quotechar='\\\"', quoting=csv.QUOTE_MINIMAL)\n",
        "    writer.writerow(['iteration', 'Reward'])\n",
        "    for i in range(trials):\n",
        "      writer.writerow([i, np.average(Reward[i])])\n",
        "\n",
        "\n",
        "\n",
        "\n",
        "    "
      ],
      "execution_count": null,
      "outputs": []
    },
    {
      "cell_type": "code",
      "metadata": {
        "id": "r2-p9EXWD_Qy",
        "colab": {
          "base_uri": "https://localhost:8080/"
        },
        "outputId": "86ed582e-fc17-4315-f342-54ba40c01209"
      },
      "source": [
        "main()"
      ],
      "execution_count": null,
      "outputs": [
        {
          "output_type": "stream",
          "text": [
            "10.125695108142317\n",
            "8.879993563267066\n",
            "8.981374796822909\n",
            "8.734583448912941\n",
            "8.869531433268781\n",
            "9.784457907291808\n",
            "9.322620233610442\n",
            "9.878132566732628\n",
            "10.236397205770256\n",
            "10.14335199400678\n",
            "9.56572293841016\n",
            "10.159792006654989\n",
            "10.205518669586766\n",
            "8.378109291594159\n",
            "9.80024319332058\n",
            "10.583207885478286\n",
            "8.257963793265004\n",
            "10.256938257203823\n",
            "9.83753193440993\n",
            "11.374958706917333\n",
            "10.792673376672955\n",
            "11.123437164104368\n",
            "10.451469806583312\n",
            "12.051206353581877\n",
            "11.188985810601103\n",
            "11.526529638454837\n",
            "10.986931098169483\n",
            "12.060890553805109\n",
            "11.61677995318445\n",
            "11.01332963338046\n",
            "11.993531404091604\n",
            "12.234830020026484\n",
            "11.323265562376207\n",
            "12.633239720398906\n",
            "12.61130132436902\n",
            "13.591433870091281\n",
            "12.823574482651502\n",
            "12.376453806263852\n",
            "14.838455816550553\n",
            "13.890379109405309\n",
            "12.549884202053176\n",
            "13.667826735178453\n",
            "12.723899686669334\n",
            "13.609835278892655\n",
            "14.146173107283737\n",
            "11.93499779833203\n",
            "8.41222151490108\n"
          ],
          "name": "stdout"
        }
      ]
    },
    {
      "cell_type": "markdown",
      "metadata": {
        "id": "6wfpwHUHRnFg"
      },
      "source": [
        "if c goes to far, after one episode ends, go back to original point"
      ]
    },
    {
      "cell_type": "code",
      "metadata": {
        "id": "ftOqN46hSLmJ"
      },
      "source": [
        "7.724593114734568\n",
        "10.34208583794999\n",
        "9.496616116909054\n",
        "10.298113964745424\n",
        "10.075092175542464\n",
        "10.35414160470266\n",
        "11.311349511349514\n",
        "10.75387151071572\n",
        "11.080260402328722\n",
        "11.962113422423258\n",
        "13.003025496544222\n",
        "13.09961196065117\n",
        "12.588913156562713\n",
        "15.294746299965126\n",
        "11.736594091796212\n",
        "13.014618245689782\n",
        "13.437897271026225\n",
        "12.670174024333585\n",
        "15.221666823729526\n",
        "15.518205399322266\n",
        "15.370213650522782\n",
        "18.486906534080674\n",
        "16.981567472197572\n",
        "17.565457714923166\n",
        "9.670251340389084\n",
        "8.678297764107464\n",
        "25.6740429391824\n",
        "7.213639750903843\n",
        "25.687451414257826\n",
        "39.673217562765124\n",
        "39.72863863093588\n",
        "33.914048958805566"
      ],
      "execution_count": null,
      "outputs": []
    },
    {
      "cell_type": "code",
      "metadata": {
        "id": "er_5qZUWfjT_"
      },
      "source": [
        "https://reader.elsevier.com/reader/sd/pii/S009784931000186X?token=39A30E488F6C81AFFD958C2EC55485E7E3D9EE086A28794168A74A3F498ABB831A8FC06F5B0EB00E538C60322EEFDCA3&originRegion=us-east-1&originCreation=20210510205826\n",
        "https://dl.acm.org/doi/pdf/10.1145/1667146.1667154\n",
        "https://dl.acm.org/doi/pdf/10.1145/1809939.1809947\n",
        "https://link.springer.com/content/pdf/10.1007%2F11949619.pdf\n",
        "https://researchrepository.murdoch.edu.au/id/eprint/33668/1/brush%20stroke.pdf\n"
      ],
      "execution_count": null,
      "outputs": []
    },
    {
      "cell_type": "markdown",
      "metadata": {
        "id": "sLNwb4_4qatA"
      },
      "source": [
        "9.610507300288694\n",
        "9.870427069141472\n",
        "9.583829678358782\n",
        "9.605247138861765\n",
        "9.24983999746871\n",
        "9.990798264949053\n",
        "9.275663059123477\n",
        "10.268426152027263\n",
        "9.875599451482072\n",
        "10.383238734030344\n",
        "10.315894125173614\n",
        "9.323395950658895\n",
        "9.96050221542649\n",
        "11.322488869946577\n",
        "11.538301464609923\n",
        "11.37242696322314\n",
        "11.512503201644812\n",
        "11.84050418364331\n",
        "12.245181642920906\n",
        "12.357455938567448\n",
        "11.916947820656041\n",
        "13.449493496645372\n",
        "12.487432605575014\n",
        "12.443393081707866\n",
        "11.849081218015838\n",
        "13.76714030299263\n",
        "11.623448064338344\n",
        "12.975511336029301\n",
        "12.449519258285335\n",
        "10.34903541162381\n",
        "11.519061735694425\n",
        "14.125696650741796\n",
        "14.362653902006278\n",
        "13.724119057706451\n",
        "14.527080682543993\n",
        "16.574243897794037\n",
        "14.7312022848579\n",
        "17.464718609164944\n",
        "16.424186704690577\n",
        "17.45983133567579\n",
        "16.394552035222713\n",
        "17.129056856094625\n",
        "16.962755142061713\n",
        "9.003072164881836\n",
        "11.200957784270015\n",
        "9.698346825493198\n",
        "20.542650843312398\n",
        "14.370749954371643\n",
        "19.075168225163228\n",
        "38.65194260046924\n",
        "65.10927922918039\n",
        "30.44094235611764\n",
        "43.12098337062829\n",
        "39.8730244462595\n",
        "50.61964118327623\n",
        "92.78629210160614\n"
      ]
    }
  ]
}